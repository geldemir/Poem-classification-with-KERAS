{
 "cells": [
  {
   "cell_type": "code",
   "execution_count": 1,
   "id": "ad5ee311",
   "metadata": {},
   "outputs": [],
   "source": [
    "import numpy as np\n",
    "import pandas as pd\n",
    "import seaborn as sns\n",
    "import matplotlib.pyplot as plt\n",
    "%matplotlib inline\n",
    "\n",
    "import warnings\n",
    "warnings.filterwarnings(\"ignore\")\n",
    "\n",
    "import tensorflow as tf\n",
    "from tensorflow.keras.preprocessing.text import Tokenizer\n",
    "from tensorflow.keras.preprocessing.sequence import pad_sequences\n"
   ]
  },
  {
   "cell_type": "code",
   "execution_count": 2,
   "id": "5392cce7",
   "metadata": {},
   "outputs": [],
   "source": [
    "df1=pd.read_csv(\"Poem_classification - test_data.csv\")\n",
    "df2=pd.read_csv(\"Poem_classification - train_data.csv\")"
   ]
  },
  {
   "cell_type": "code",
   "execution_count": 3,
   "id": "6f0dac74",
   "metadata": {},
   "outputs": [
    {
     "data": {
      "text/plain": [
       "((150, 2), (841, 2))"
      ]
     },
     "execution_count": 3,
     "metadata": {},
     "output_type": "execute_result"
    }
   ],
   "source": [
    "df1.shape, df2.shape"
   ]
  },
  {
   "cell_type": "code",
   "execution_count": 4,
   "id": "9a366497",
   "metadata": {},
   "outputs": [
    {
     "data": {
      "text/html": [
       "<div>\n",
       "<style scoped>\n",
       "    .dataframe tbody tr th:only-of-type {\n",
       "        vertical-align: middle;\n",
       "    }\n",
       "\n",
       "    .dataframe tbody tr th {\n",
       "        vertical-align: top;\n",
       "    }\n",
       "\n",
       "    .dataframe thead th {\n",
       "        text-align: right;\n",
       "    }\n",
       "</style>\n",
       "<table border=\"1\" class=\"dataframe\">\n",
       "  <thead>\n",
       "    <tr style=\"text-align: right;\">\n",
       "      <th></th>\n",
       "      <th>Genre</th>\n",
       "      <th>Poem</th>\n",
       "    </tr>\n",
       "  </thead>\n",
       "  <tbody>\n",
       "    <tr>\n",
       "      <th>0</th>\n",
       "      <td>Music</td>\n",
       "      <td>A woman walks by the bench I’m sitting onwith ...</td>\n",
       "    </tr>\n",
       "    <tr>\n",
       "      <th>1</th>\n",
       "      <td>Music</td>\n",
       "      <td>Because I am a boy, the untouchability of beau...</td>\n",
       "    </tr>\n",
       "    <tr>\n",
       "      <th>2</th>\n",
       "      <td>Music</td>\n",
       "      <td>Because today we did not leave this world,We n...</td>\n",
       "    </tr>\n",
       "    <tr>\n",
       "      <th>3</th>\n",
       "      <td>Music</td>\n",
       "      <td>Big Bend has been here, been here. Shouldn’t i...</td>\n",
       "    </tr>\n",
       "    <tr>\n",
       "      <th>4</th>\n",
       "      <td>Music</td>\n",
       "      <td>I put shells there, along the lip of the road....</td>\n",
       "    </tr>\n",
       "  </tbody>\n",
       "</table>\n",
       "</div>"
      ],
      "text/plain": [
       "   Genre                                               Poem\n",
       "0  Music  A woman walks by the bench I’m sitting onwith ...\n",
       "1  Music  Because I am a boy, the untouchability of beau...\n",
       "2  Music  Because today we did not leave this world,We n...\n",
       "3  Music  Big Bend has been here, been here. Shouldn’t i...\n",
       "4  Music  I put shells there, along the lip of the road...."
      ]
     },
     "execution_count": 4,
     "metadata": {},
     "output_type": "execute_result"
    }
   ],
   "source": [
    "df1.head()"
   ]
  },
  {
   "cell_type": "code",
   "execution_count": 5,
   "id": "463b47e7",
   "metadata": {},
   "outputs": [
    {
     "data": {
      "text/html": [
       "<div>\n",
       "<style scoped>\n",
       "    .dataframe tbody tr th:only-of-type {\n",
       "        vertical-align: middle;\n",
       "    }\n",
       "\n",
       "    .dataframe tbody tr th {\n",
       "        vertical-align: top;\n",
       "    }\n",
       "\n",
       "    .dataframe thead th {\n",
       "        text-align: right;\n",
       "    }\n",
       "</style>\n",
       "<table border=\"1\" class=\"dataframe\">\n",
       "  <thead>\n",
       "    <tr style=\"text-align: right;\">\n",
       "      <th></th>\n",
       "      <th>Genre</th>\n",
       "      <th>Poem</th>\n",
       "    </tr>\n",
       "  </thead>\n",
       "  <tbody>\n",
       "    <tr>\n",
       "      <th>114</th>\n",
       "      <td>Affection</td>\n",
       "      <td>It was easy enough to bend them to my wish, it...</td>\n",
       "    </tr>\n",
       "    <tr>\n",
       "      <th>6</th>\n",
       "      <td>Music</td>\n",
       "      <td>I was afraid the past would catch up with me,w...</td>\n",
       "    </tr>\n",
       "    <tr>\n",
       "      <th>67</th>\n",
       "      <td>Affection</td>\n",
       "      <td>DEAR MISS: Notwithstanding the cloud of doubts...</td>\n",
       "    </tr>\n",
       "    <tr>\n",
       "      <th>115</th>\n",
       "      <td>Affection</td>\n",
       "      <td>It's all I have to bring today—This, and my he...</td>\n",
       "    </tr>\n",
       "    <tr>\n",
       "      <th>84</th>\n",
       "      <td>Affection</td>\n",
       "      <td>I am yours as the summer air at evening isPoss...</td>\n",
       "    </tr>\n",
       "  </tbody>\n",
       "</table>\n",
       "</div>"
      ],
      "text/plain": [
       "         Genre                                               Poem\n",
       "114  Affection  It was easy enough to bend them to my wish, it...\n",
       "6        Music  I was afraid the past would catch up with me,w...\n",
       "67   Affection  DEAR MISS: Notwithstanding the cloud of doubts...\n",
       "115  Affection  It's all I have to bring today—This, and my he...\n",
       "84   Affection  I am yours as the summer air at evening isPoss..."
      ]
     },
     "execution_count": 5,
     "metadata": {},
     "output_type": "execute_result"
    }
   ],
   "source": [
    "df1.sample(5)"
   ]
  },
  {
   "cell_type": "code",
   "execution_count": 6,
   "id": "59815bf7",
   "metadata": {},
   "outputs": [
    {
     "data": {
      "text/plain": [
       "array(['Music', 'Death', 'Affection', 'Environment'], dtype=object)"
      ]
     },
     "execution_count": 6,
     "metadata": {},
     "output_type": "execute_result"
    }
   ],
   "source": [
    "df1['Genre'].unique()"
   ]
  },
  {
   "cell_type": "code",
   "execution_count": 7,
   "id": "468ac183",
   "metadata": {},
   "outputs": [
    {
     "name": "stdout",
     "output_type": "stream",
     "text": [
      "<class 'pandas.core.frame.DataFrame'>\n",
      "RangeIndex: 150 entries, 0 to 149\n",
      "Data columns (total 2 columns):\n",
      " #   Column  Non-Null Count  Dtype \n",
      "---  ------  --------------  ----- \n",
      " 0   Genre   150 non-null    object\n",
      " 1   Poem    150 non-null    object\n",
      "dtypes: object(2)\n",
      "memory usage: 2.5+ KB\n"
     ]
    }
   ],
   "source": [
    "df1.info()"
   ]
  },
  {
   "cell_type": "code",
   "execution_count": 8,
   "id": "b61585a4",
   "metadata": {},
   "outputs": [
    {
     "data": {
      "text/plain": [
       "Genre    0\n",
       "Poem     0\n",
       "dtype: int64"
      ]
     },
     "execution_count": 8,
     "metadata": {},
     "output_type": "execute_result"
    }
   ],
   "source": [
    "df1.isnull().sum()"
   ]
  },
  {
   "cell_type": "code",
   "execution_count": 9,
   "id": "7423788b",
   "metadata": {},
   "outputs": [
    {
     "data": {
      "text/html": [
       "<div>\n",
       "<style scoped>\n",
       "    .dataframe tbody tr th:only-of-type {\n",
       "        vertical-align: middle;\n",
       "    }\n",
       "\n",
       "    .dataframe tbody tr th {\n",
       "        vertical-align: top;\n",
       "    }\n",
       "\n",
       "    .dataframe thead th {\n",
       "        text-align: right;\n",
       "    }\n",
       "</style>\n",
       "<table border=\"1\" class=\"dataframe\">\n",
       "  <thead>\n",
       "    <tr style=\"text-align: right;\">\n",
       "      <th></th>\n",
       "      <th>Genre</th>\n",
       "      <th>Poem</th>\n",
       "    </tr>\n",
       "  </thead>\n",
       "  <tbody>\n",
       "    <tr>\n",
       "      <th>0</th>\n",
       "      <td>Music</td>\n",
       "      <td>NaN</td>\n",
       "    </tr>\n",
       "    <tr>\n",
       "      <th>1</th>\n",
       "      <td>Music</td>\n",
       "      <td>In the thick brushthey spend the...</td>\n",
       "    </tr>\n",
       "    <tr>\n",
       "      <th>2</th>\n",
       "      <td>Music</td>\n",
       "      <td>Storms are generous.                       ...</td>\n",
       "    </tr>\n",
       "    <tr>\n",
       "      <th>3</th>\n",
       "      <td>Music</td>\n",
       "      <td>—After Ana Mendieta Did you carry around the ...</td>\n",
       "    </tr>\n",
       "    <tr>\n",
       "      <th>4</th>\n",
       "      <td>Music</td>\n",
       "      <td>for Aja Sherrard at 20The portent may itself ...</td>\n",
       "    </tr>\n",
       "  </tbody>\n",
       "</table>\n",
       "</div>"
      ],
      "text/plain": [
       "   Genre                                               Poem\n",
       "0  Music                                                NaN\n",
       "1  Music                In the thick brushthey spend the...\n",
       "2  Music     Storms are generous.                       ...\n",
       "3  Music   —After Ana Mendieta Did you carry around the ...\n",
       "4  Music   for Aja Sherrard at 20The portent may itself ..."
      ]
     },
     "execution_count": 9,
     "metadata": {},
     "output_type": "execute_result"
    }
   ],
   "source": [
    "df2.head()"
   ]
  },
  {
   "cell_type": "code",
   "execution_count": 10,
   "id": "565be3df",
   "metadata": {},
   "outputs": [
    {
     "data": {
      "text/plain": [
       "Genre    0\n",
       "Poem     4\n",
       "dtype: int64"
      ]
     },
     "execution_count": 10,
     "metadata": {},
     "output_type": "execute_result"
    }
   ],
   "source": [
    "df2.isnull().sum()    "
   ]
  },
  {
   "cell_type": "code",
   "execution_count": 11,
   "id": "87d20fd5",
   "metadata": {},
   "outputs": [],
   "source": [
    "df=df1.append(df2)  "
   ]
  },
  {
   "cell_type": "code",
   "execution_count": 12,
   "id": "a9ebac79",
   "metadata": {},
   "outputs": [
    {
     "data": {
      "text/plain": [
       "(991, 2)"
      ]
     },
     "execution_count": 12,
     "metadata": {},
     "output_type": "execute_result"
    }
   ],
   "source": [
    "df.shape"
   ]
  },
  {
   "cell_type": "code",
   "execution_count": 13,
   "id": "846bba5c",
   "metadata": {},
   "outputs": [
    {
     "data": {
      "text/html": [
       "<div>\n",
       "<style scoped>\n",
       "    .dataframe tbody tr th:only-of-type {\n",
       "        vertical-align: middle;\n",
       "    }\n",
       "\n",
       "    .dataframe tbody tr th {\n",
       "        vertical-align: top;\n",
       "    }\n",
       "\n",
       "    .dataframe thead th {\n",
       "        text-align: right;\n",
       "    }\n",
       "</style>\n",
       "<table border=\"1\" class=\"dataframe\">\n",
       "  <thead>\n",
       "    <tr style=\"text-align: right;\">\n",
       "      <th></th>\n",
       "      <th>Genre</th>\n",
       "      <th>Poem</th>\n",
       "    </tr>\n",
       "  </thead>\n",
       "  <tbody>\n",
       "    <tr>\n",
       "      <th>0</th>\n",
       "      <td>Music</td>\n",
       "      <td>A woman walks by the bench I’m sitting onwith ...</td>\n",
       "    </tr>\n",
       "    <tr>\n",
       "      <th>1</th>\n",
       "      <td>Music</td>\n",
       "      <td>Because I am a boy, the untouchability of beau...</td>\n",
       "    </tr>\n",
       "    <tr>\n",
       "      <th>2</th>\n",
       "      <td>Music</td>\n",
       "      <td>Because today we did not leave this world,We n...</td>\n",
       "    </tr>\n",
       "    <tr>\n",
       "      <th>3</th>\n",
       "      <td>Music</td>\n",
       "      <td>Big Bend has been here, been here. Shouldn’t i...</td>\n",
       "    </tr>\n",
       "    <tr>\n",
       "      <th>4</th>\n",
       "      <td>Music</td>\n",
       "      <td>I put shells there, along the lip of the road....</td>\n",
       "    </tr>\n",
       "  </tbody>\n",
       "</table>\n",
       "</div>"
      ],
      "text/plain": [
       "   Genre                                               Poem\n",
       "0  Music  A woman walks by the bench I’m sitting onwith ...\n",
       "1  Music  Because I am a boy, the untouchability of beau...\n",
       "2  Music  Because today we did not leave this world,We n...\n",
       "3  Music  Big Bend has been here, been here. Shouldn’t i...\n",
       "4  Music  I put shells there, along the lip of the road...."
      ]
     },
     "execution_count": 13,
     "metadata": {},
     "output_type": "execute_result"
    }
   ],
   "source": [
    "df.head()"
   ]
  },
  {
   "cell_type": "code",
   "execution_count": 14,
   "id": "7e40616c",
   "metadata": {},
   "outputs": [
    {
     "name": "stdout",
     "output_type": "stream",
     "text": [
      "<class 'pandas.core.frame.DataFrame'>\n",
      "Int64Index: 991 entries, 0 to 840\n",
      "Data columns (total 2 columns):\n",
      " #   Column  Non-Null Count  Dtype \n",
      "---  ------  --------------  ----- \n",
      " 0   Genre   991 non-null    object\n",
      " 1   Poem    987 non-null    object\n",
      "dtypes: object(2)\n",
      "memory usage: 23.2+ KB\n"
     ]
    }
   ],
   "source": [
    "df.info()"
   ]
  },
  {
   "cell_type": "code",
   "execution_count": 15,
   "id": "e3f57198",
   "metadata": {},
   "outputs": [
    {
     "data": {
      "text/plain": [
       "Genre    0\n",
       "Poem     4\n",
       "dtype: int64"
      ]
     },
     "execution_count": 15,
     "metadata": {},
     "output_type": "execute_result"
    }
   ],
   "source": [
    "df.isnull().sum()"
   ]
  },
  {
   "cell_type": "code",
   "execution_count": 16,
   "id": "20e2b9f0",
   "metadata": {},
   "outputs": [],
   "source": [
    "df = df.dropna(axis=0)"
   ]
  },
  {
   "cell_type": "code",
   "execution_count": 17,
   "id": "126f83f5",
   "metadata": {},
   "outputs": [
    {
     "data": {
      "text/plain": [
       "Genre    0\n",
       "Poem     0\n",
       "dtype: int64"
      ]
     },
     "execution_count": 17,
     "metadata": {},
     "output_type": "execute_result"
    }
   ],
   "source": [
    "df.isnull().sum()"
   ]
  },
  {
   "cell_type": "code",
   "execution_count": 18,
   "id": "5e1e7765",
   "metadata": {},
   "outputs": [
    {
     "data": {
      "text/plain": [
       "Environment    252\n",
       "Music          250\n",
       "Death          244\n",
       "Affection      241\n",
       "Name: Genre, dtype: int64"
      ]
     },
     "execution_count": 18,
     "metadata": {},
     "output_type": "execute_result"
    }
   ],
   "source": [
    "df.Genre.value_counts()"
   ]
  },
  {
   "cell_type": "code",
   "execution_count": 19,
   "id": "5c9324b0",
   "metadata": {},
   "outputs": [],
   "source": [
    "df = df.replace({'Environment':0,'Music':1,'Death':2,'Affection':3})"
   ]
  },
  {
   "cell_type": "code",
   "execution_count": 20,
   "id": "b9a354e7",
   "metadata": {},
   "outputs": [
    {
     "data": {
      "text/html": [
       "<div>\n",
       "<style scoped>\n",
       "    .dataframe tbody tr th:only-of-type {\n",
       "        vertical-align: middle;\n",
       "    }\n",
       "\n",
       "    .dataframe tbody tr th {\n",
       "        vertical-align: top;\n",
       "    }\n",
       "\n",
       "    .dataframe thead th {\n",
       "        text-align: right;\n",
       "    }\n",
       "</style>\n",
       "<table border=\"1\" class=\"dataframe\">\n",
       "  <thead>\n",
       "    <tr style=\"text-align: right;\">\n",
       "      <th></th>\n",
       "      <th>Genre</th>\n",
       "      <th>Poem</th>\n",
       "    </tr>\n",
       "  </thead>\n",
       "  <tbody>\n",
       "    <tr>\n",
       "      <th>0</th>\n",
       "      <td>1</td>\n",
       "      <td>A woman walks by the bench I’m sitting onwith ...</td>\n",
       "    </tr>\n",
       "    <tr>\n",
       "      <th>1</th>\n",
       "      <td>1</td>\n",
       "      <td>Because I am a boy, the untouchability of beau...</td>\n",
       "    </tr>\n",
       "    <tr>\n",
       "      <th>2</th>\n",
       "      <td>1</td>\n",
       "      <td>Because today we did not leave this world,We n...</td>\n",
       "    </tr>\n",
       "    <tr>\n",
       "      <th>3</th>\n",
       "      <td>1</td>\n",
       "      <td>Big Bend has been here, been here. Shouldn’t i...</td>\n",
       "    </tr>\n",
       "    <tr>\n",
       "      <th>4</th>\n",
       "      <td>1</td>\n",
       "      <td>I put shells there, along the lip of the road....</td>\n",
       "    </tr>\n",
       "    <tr>\n",
       "      <th>...</th>\n",
       "      <td>...</td>\n",
       "      <td>...</td>\n",
       "    </tr>\n",
       "    <tr>\n",
       "      <th>836</th>\n",
       "      <td>0</td>\n",
       "      <td>Why make so much of fragmentary blue In here a...</td>\n",
       "    </tr>\n",
       "    <tr>\n",
       "      <th>837</th>\n",
       "      <td>0</td>\n",
       "      <td>Woman, I wish I didn't know your name. What co...</td>\n",
       "    </tr>\n",
       "    <tr>\n",
       "      <th>838</th>\n",
       "      <td>0</td>\n",
       "      <td>Yonder to the kiosk, beside the creek, Paddle ...</td>\n",
       "    </tr>\n",
       "    <tr>\n",
       "      <th>839</th>\n",
       "      <td>0</td>\n",
       "      <td>You come to fetch me from my work to-night Whe...</td>\n",
       "    </tr>\n",
       "    <tr>\n",
       "      <th>840</th>\n",
       "      <td>0</td>\n",
       "      <td>You see them through water and glass, (both li...</td>\n",
       "    </tr>\n",
       "  </tbody>\n",
       "</table>\n",
       "<p>987 rows × 2 columns</p>\n",
       "</div>"
      ],
      "text/plain": [
       "     Genre                                               Poem\n",
       "0        1  A woman walks by the bench I’m sitting onwith ...\n",
       "1        1  Because I am a boy, the untouchability of beau...\n",
       "2        1  Because today we did not leave this world,We n...\n",
       "3        1  Big Bend has been here, been here. Shouldn’t i...\n",
       "4        1  I put shells there, along the lip of the road....\n",
       "..     ...                                                ...\n",
       "836      0  Why make so much of fragmentary blue In here a...\n",
       "837      0  Woman, I wish I didn't know your name. What co...\n",
       "838      0  Yonder to the kiosk, beside the creek, Paddle ...\n",
       "839      0  You come to fetch me from my work to-night Whe...\n",
       "840      0  You see them through water and glass, (both li...\n",
       "\n",
       "[987 rows x 2 columns]"
      ]
     },
     "execution_count": 20,
     "metadata": {},
     "output_type": "execute_result"
    }
   ],
   "source": [
    "df"
   ]
  },
  {
   "cell_type": "code",
   "execution_count": 22,
   "id": "8102a337",
   "metadata": {},
   "outputs": [],
   "source": [
    "text=df[\"Poem\"]\n",
    "labels=df[\"Genre\"]"
   ]
  },
  {
   "cell_type": "code",
   "execution_count": 24,
   "id": "44cd70d5",
   "metadata": {},
   "outputs": [
    {
     "data": {
      "text/plain": [
       "((987,), (987,))"
      ]
     },
     "execution_count": 24,
     "metadata": {},
     "output_type": "execute_result"
    }
   ],
   "source": [
    "text = np.array(text)\n",
    "labels = np.array(labels)\n",
    "text.shape, labels.shape"
   ]
  },
  {
   "cell_type": "code",
   "execution_count": 25,
   "id": "c98d4836",
   "metadata": {},
   "outputs": [],
   "source": [
    "training_text = text[0:901]\n",
    "testing_text = text[901:]\n",
    "training_labels = labels[0:901]\n",
    "testing_labels = labels[901:]"
   ]
  },
  {
   "cell_type": "code",
   "execution_count": 27,
   "id": "92e2fc48",
   "metadata": {},
   "outputs": [],
   "source": [
    "tokenizer = Tokenizer(num_words=10000, oov_token=\"<OOV>\")\n",
    "tokenizer.fit_on_texts(training_text)\n",
    "\n",
    "word_index = tokenizer.word_index\n",
    "\n",
    "training_sequences = tokenizer.texts_to_sequences(training_text)\n",
    "training_padded = pad_sequences(training_sequences, maxlen=200, padding='post', truncating='post')\n",
    "\n",
    "testing_sequences = tokenizer.texts_to_sequences(testing_text)\n",
    "testing_padded = pad_sequences(testing_sequences, maxlen=200, padding='post', truncating='post')"
   ]
  },
  {
   "cell_type": "code",
   "execution_count": 28,
   "id": "139b8acf",
   "metadata": {},
   "outputs": [],
   "source": [
    "training_padded = np.array(training_padded)\n",
    "training_labels = np.array(training_labels)\n",
    "testing_padded = np.array(testing_padded)\n",
    "testing_labels = np.array(testing_labels)"
   ]
  },
  {
   "cell_type": "code",
   "execution_count": 29,
   "id": "f31763a5",
   "metadata": {},
   "outputs": [
    {
     "name": "stdout",
     "output_type": "stream",
     "text": [
      "Model: \"sequential\"\n",
      "_________________________________________________________________\n",
      " Layer (type)                Output Shape              Param #   \n",
      "=================================================================\n",
      " embedding (Embedding)       (None, 200, 16)           160000    \n",
      "                                                                 \n",
      " global_average_pooling1d (G  (None, 16)               0         \n",
      " lobalAveragePooling1D)                                          \n",
      "                                                                 \n",
      " flatten (Flatten)           (None, 16)                0         \n",
      "                                                                 \n",
      " dense (Dense)               (None, 50)                850       \n",
      "                                                                 \n",
      " dense_1 (Dense)             (None, 25)                1275      \n",
      "                                                                 \n",
      " dense_2 (Dense)             (None, 4)                 104       \n",
      "                                                                 \n",
      "=================================================================\n",
      "Total params: 162,229\n",
      "Trainable params: 162,229\n",
      "Non-trainable params: 0\n",
      "_________________________________________________________________\n"
     ]
    }
   ],
   "source": [
    "model = tf.keras.Sequential()\n",
    "model.add(tf.keras.layers.Embedding(10000,16,input_length=200))\n",
    "model.add(tf.keras.layers.GlobalAveragePooling1D())\n",
    "model.add(tf.keras.layers.Flatten())\n",
    "model.add(tf.keras.layers.Dense(50,activation='relu'))\n",
    "model.add(tf.keras.layers.Dense(25,activation='relu'))\n",
    "model.add(tf.keras.layers.Dense(4,activation='softmax'))\n",
    "opt = tf.keras.optimizers.Adam()\n",
    "model.compile(loss='sparse_categorical_crossentropy',optimizer=opt,metrics=['accuracy'])\n",
    "model.summary()"
   ]
  },
  {
   "cell_type": "code",
   "execution_count": 30,
   "id": "75e606d2",
   "metadata": {},
   "outputs": [
    {
     "name": "stdout",
     "output_type": "stream",
     "text": [
      "Epoch 1/100\n",
      "29/29 - 8s - loss: 1.3837 - accuracy: 0.2775 - val_loss: 1.4541 - val_accuracy: 0.0000e+00 - 8s/epoch - 285ms/step\n",
      "Epoch 2/100\n",
      "29/29 - 1s - loss: 1.3798 - accuracy: 0.2775 - val_loss: 1.5161 - val_accuracy: 0.0000e+00 - 680ms/epoch - 23ms/step\n",
      "Epoch 3/100\n",
      "29/29 - 1s - loss: 1.3766 - accuracy: 0.2775 - val_loss: 1.5717 - val_accuracy: 0.0000e+00 - 618ms/epoch - 21ms/step\n",
      "Epoch 4/100\n",
      "29/29 - 1s - loss: 1.3741 - accuracy: 0.2775 - val_loss: 1.5828 - val_accuracy: 0.0000e+00 - 563ms/epoch - 19ms/step\n",
      "Epoch 5/100\n",
      "29/29 - 1s - loss: 1.3716 - accuracy: 0.2775 - val_loss: 1.6356 - val_accuracy: 0.0000e+00 - 524ms/epoch - 18ms/step\n",
      "Epoch 6/100\n",
      "29/29 - 0s - loss: 1.3682 - accuracy: 0.3119 - val_loss: 1.6783 - val_accuracy: 0.0000e+00 - 361ms/epoch - 12ms/step\n",
      "Epoch 7/100\n",
      "29/29 - 0s - loss: 1.3659 - accuracy: 0.2786 - val_loss: 1.6886 - val_accuracy: 0.0000e+00 - 492ms/epoch - 17ms/step\n",
      "Epoch 8/100\n",
      "29/29 - 1s - loss: 1.3590 - accuracy: 0.3274 - val_loss: 1.6709 - val_accuracy: 0.0000e+00 - 503ms/epoch - 17ms/step\n",
      "Epoch 9/100\n",
      "29/29 - 0s - loss: 1.3470 - accuracy: 0.2963 - val_loss: 1.6857 - val_accuracy: 0.0000e+00 - 450ms/epoch - 16ms/step\n",
      "Epoch 10/100\n",
      "29/29 - 0s - loss: 1.3234 - accuracy: 0.4084 - val_loss: 1.6736 - val_accuracy: 0.0000e+00 - 389ms/epoch - 13ms/step\n",
      "Epoch 11/100\n",
      "29/29 - 0s - loss: 1.2666 - accuracy: 0.4661 - val_loss: 1.6481 - val_accuracy: 0.0000e+00 - 494ms/epoch - 17ms/step\n",
      "Epoch 12/100\n",
      "29/29 - 1s - loss: 1.1694 - accuracy: 0.5028 - val_loss: 1.6756 - val_accuracy: 0.0000e+00 - 609ms/epoch - 21ms/step\n",
      "Epoch 13/100\n",
      "29/29 - 1s - loss: 1.0530 - accuracy: 0.5161 - val_loss: 1.6136 - val_accuracy: 0.0000e+00 - 566ms/epoch - 20ms/step\n",
      "Epoch 14/100\n",
      "29/29 - 0s - loss: 0.9551 - accuracy: 0.5272 - val_loss: 1.5323 - val_accuracy: 0.0000e+00 - 363ms/epoch - 13ms/step\n",
      "Epoch 15/100\n",
      "29/29 - 0s - loss: 0.8910 - accuracy: 0.5683 - val_loss: 1.6687 - val_accuracy: 0.0000e+00 - 343ms/epoch - 12ms/step\n",
      "Epoch 16/100\n",
      "29/29 - 0s - loss: 0.8417 - accuracy: 0.5594 - val_loss: 1.8703 - val_accuracy: 0.0000e+00 - 349ms/epoch - 12ms/step\n",
      "Epoch 17/100\n",
      "29/29 - 0s - loss: 0.8077 - accuracy: 0.5916 - val_loss: 1.8653 - val_accuracy: 0.0000e+00 - 382ms/epoch - 13ms/step\n",
      "Epoch 18/100\n",
      "29/29 - 0s - loss: 0.7854 - accuracy: 0.6382 - val_loss: 1.6165 - val_accuracy: 0.0000e+00 - 438ms/epoch - 15ms/step\n",
      "Epoch 19/100\n",
      "29/29 - 1s - loss: 0.7496 - accuracy: 0.6693 - val_loss: 1.9735 - val_accuracy: 0.0000e+00 - 607ms/epoch - 21ms/step\n",
      "Epoch 20/100\n",
      "29/29 - 1s - loss: 0.7284 - accuracy: 0.6693 - val_loss: 1.9902 - val_accuracy: 0.0000e+00 - 546ms/epoch - 19ms/step\n",
      "Epoch 21/100\n",
      "29/29 - 1s - loss: 0.6996 - accuracy: 0.6992 - val_loss: 1.5926 - val_accuracy: 0.0000e+00 - 518ms/epoch - 18ms/step\n",
      "Epoch 22/100\n",
      "29/29 - 0s - loss: 0.6716 - accuracy: 0.7148 - val_loss: 1.7655 - val_accuracy: 0.0000e+00 - 411ms/epoch - 14ms/step\n",
      "Epoch 23/100\n",
      "29/29 - 0s - loss: 0.6415 - accuracy: 0.7159 - val_loss: 1.8439 - val_accuracy: 0.0000e+00 - 399ms/epoch - 14ms/step\n",
      "Epoch 24/100\n",
      "29/29 - 0s - loss: 0.6162 - accuracy: 0.7225 - val_loss: 2.0453 - val_accuracy: 0.0000e+00 - 419ms/epoch - 14ms/step\n",
      "Epoch 25/100\n",
      "29/29 - 0s - loss: 0.6040 - accuracy: 0.7248 - val_loss: 1.6546 - val_accuracy: 0.0000e+00 - 376ms/epoch - 13ms/step\n",
      "Epoch 26/100\n",
      "29/29 - 0s - loss: 0.5684 - accuracy: 0.7192 - val_loss: 1.7927 - val_accuracy: 0.1860 - 344ms/epoch - 12ms/step\n",
      "Epoch 27/100\n",
      "29/29 - 0s - loss: 0.5407 - accuracy: 0.7436 - val_loss: 1.3910 - val_accuracy: 0.1744 - 359ms/epoch - 12ms/step\n",
      "Epoch 28/100\n",
      "29/29 - 1s - loss: 0.5353 - accuracy: 0.7636 - val_loss: 2.2017 - val_accuracy: 0.1512 - 565ms/epoch - 19ms/step\n",
      "Epoch 29/100\n",
      "29/29 - 1s - loss: 0.4982 - accuracy: 0.8346 - val_loss: 1.8392 - val_accuracy: 0.2093 - 543ms/epoch - 19ms/step\n",
      "Epoch 30/100\n",
      "29/29 - 1s - loss: 0.4705 - accuracy: 0.7936 - val_loss: 1.4408 - val_accuracy: 0.3721 - 547ms/epoch - 19ms/step\n",
      "Epoch 31/100\n",
      "29/29 - 1s - loss: 0.4474 - accuracy: 0.8435 - val_loss: 1.9166 - val_accuracy: 0.1744 - 738ms/epoch - 25ms/step\n",
      "Epoch 32/100\n",
      "29/29 - 1s - loss: 0.4129 - accuracy: 0.8657 - val_loss: 1.5714 - val_accuracy: 0.3721 - 510ms/epoch - 18ms/step\n",
      "Epoch 33/100\n",
      "29/29 - 0s - loss: 0.3977 - accuracy: 0.8879 - val_loss: 1.4026 - val_accuracy: 0.4651 - 500ms/epoch - 17ms/step\n",
      "Epoch 34/100\n",
      "29/29 - 1s - loss: 0.3752 - accuracy: 0.8790 - val_loss: 1.8513 - val_accuracy: 0.2674 - 518ms/epoch - 18ms/step\n",
      "Epoch 35/100\n",
      "29/29 - 1s - loss: 0.3504 - accuracy: 0.8801 - val_loss: 1.5629 - val_accuracy: 0.4070 - 833ms/epoch - 29ms/step\n",
      "Epoch 36/100\n",
      "29/29 - 1s - loss: 0.3320 - accuracy: 0.8935 - val_loss: 1.9099 - val_accuracy: 0.2907 - 629ms/epoch - 22ms/step\n",
      "Epoch 37/100\n",
      "29/29 - 1s - loss: 0.3236 - accuracy: 0.8912 - val_loss: 1.4765 - val_accuracy: 0.4651 - 537ms/epoch - 19ms/step\n",
      "Epoch 38/100\n",
      "29/29 - 1s - loss: 0.3070 - accuracy: 0.8946 - val_loss: 1.6403 - val_accuracy: 0.4419 - 519ms/epoch - 18ms/step\n",
      "Epoch 39/100\n",
      "29/29 - 0s - loss: 0.2943 - accuracy: 0.8912 - val_loss: 2.1054 - val_accuracy: 0.2326 - 436ms/epoch - 15ms/step\n",
      "Epoch 40/100\n",
      "29/29 - 0s - loss: 0.2882 - accuracy: 0.8990 - val_loss: 1.4690 - val_accuracy: 0.5000 - 465ms/epoch - 16ms/step\n",
      "Epoch 41/100\n",
      "29/29 - 0s - loss: 0.2827 - accuracy: 0.9057 - val_loss: 1.9232 - val_accuracy: 0.3372 - 453ms/epoch - 16ms/step\n",
      "Epoch 42/100\n",
      "29/29 - 0s - loss: 0.2710 - accuracy: 0.9046 - val_loss: 1.5234 - val_accuracy: 0.5000 - 449ms/epoch - 15ms/step\n",
      "Epoch 43/100\n",
      "29/29 - 1s - loss: 0.2546 - accuracy: 0.8979 - val_loss: 1.6874 - val_accuracy: 0.4419 - 853ms/epoch - 29ms/step\n",
      "Epoch 44/100\n",
      "29/29 - 0s - loss: 0.2597 - accuracy: 0.9012 - val_loss: 1.8373 - val_accuracy: 0.3721 - 424ms/epoch - 15ms/step\n",
      "Epoch 45/100\n",
      "29/29 - 1s - loss: 0.2537 - accuracy: 0.8935 - val_loss: 1.5417 - val_accuracy: 0.4419 - 601ms/epoch - 21ms/step\n",
      "Epoch 46/100\n",
      "29/29 - 0s - loss: 0.2559 - accuracy: 0.8879 - val_loss: 2.2589 - val_accuracy: 0.2674 - 438ms/epoch - 15ms/step\n",
      "Epoch 47/100\n",
      "29/29 - 1s - loss: 0.2295 - accuracy: 0.9057 - val_loss: 1.7766 - val_accuracy: 0.4419 - 584ms/epoch - 20ms/step\n",
      "Epoch 48/100\n",
      "29/29 - 1s - loss: 0.2261 - accuracy: 0.8990 - val_loss: 1.9532 - val_accuracy: 0.3721 - 650ms/epoch - 22ms/step\n",
      "Epoch 49/100\n",
      "29/29 - 0s - loss: 0.2390 - accuracy: 0.9012 - val_loss: 2.0333 - val_accuracy: 0.3488 - 456ms/epoch - 16ms/step\n",
      "Epoch 50/100\n",
      "29/29 - 1s - loss: 0.2275 - accuracy: 0.9012 - val_loss: 1.6584 - val_accuracy: 0.5000 - 620ms/epoch - 21ms/step\n",
      "Epoch 51/100\n",
      "29/29 - 1s - loss: 0.2272 - accuracy: 0.9046 - val_loss: 1.8652 - val_accuracy: 0.3488 - 704ms/epoch - 24ms/step\n",
      "Epoch 52/100\n",
      "29/29 - 1s - loss: 0.2151 - accuracy: 0.9046 - val_loss: 1.8199 - val_accuracy: 0.4186 - 510ms/epoch - 18ms/step\n",
      "Epoch 53/100\n",
      "29/29 - 0s - loss: 0.2046 - accuracy: 0.9034 - val_loss: 1.8825 - val_accuracy: 0.3605 - 483ms/epoch - 17ms/step\n",
      "Epoch 54/100\n",
      "29/29 - 1s - loss: 0.1982 - accuracy: 0.9012 - val_loss: 1.8370 - val_accuracy: 0.4186 - 700ms/epoch - 24ms/step\n",
      "Epoch 55/100\n",
      "29/29 - 1s - loss: 0.1978 - accuracy: 0.8946 - val_loss: 1.9191 - val_accuracy: 0.3837 - 592ms/epoch - 20ms/step\n",
      "Epoch 56/100\n",
      "29/29 - 1s - loss: 0.2025 - accuracy: 0.9034 - val_loss: 2.2933 - val_accuracy: 0.3256 - 564ms/epoch - 19ms/step\n",
      "Epoch 57/100\n",
      "29/29 - 1s - loss: 0.2024 - accuracy: 0.8957 - val_loss: 2.1192 - val_accuracy: 0.3372 - 571ms/epoch - 20ms/step\n",
      "Epoch 58/100\n",
      "29/29 - 1s - loss: 0.1959 - accuracy: 0.8946 - val_loss: 1.6575 - val_accuracy: 0.4302 - 594ms/epoch - 20ms/step\n",
      "Epoch 59/100\n",
      "29/29 - 1s - loss: 0.1971 - accuracy: 0.9001 - val_loss: 2.2117 - val_accuracy: 0.3023 - 535ms/epoch - 18ms/step\n",
      "Epoch 60/100\n",
      "29/29 - 1s - loss: 0.1861 - accuracy: 0.9101 - val_loss: 1.8798 - val_accuracy: 0.4070 - 521ms/epoch - 18ms/step\n",
      "Epoch 61/100\n",
      "29/29 - 0s - loss: 0.1852 - accuracy: 0.9134 - val_loss: 1.7399 - val_accuracy: 0.4186 - 412ms/epoch - 14ms/step\n",
      "Epoch 62/100\n",
      "29/29 - 0s - loss: 0.1852 - accuracy: 0.9079 - val_loss: 2.4124 - val_accuracy: 0.3023 - 371ms/epoch - 13ms/step\n",
      "Epoch 63/100\n",
      "29/29 - 0s - loss: 0.2132 - accuracy: 0.9046 - val_loss: 2.1049 - val_accuracy: 0.3372 - 381ms/epoch - 13ms/step\n",
      "Epoch 64/100\n",
      "29/29 - 0s - loss: 0.1827 - accuracy: 0.8935 - val_loss: 1.7598 - val_accuracy: 0.4070 - 392ms/epoch - 14ms/step\n",
      "Epoch 65/100\n",
      "29/29 - 0s - loss: 0.2103 - accuracy: 0.9034 - val_loss: 1.8672 - val_accuracy: 0.4186 - 392ms/epoch - 14ms/step\n"
     ]
    },
    {
     "name": "stdout",
     "output_type": "stream",
     "text": [
      "Epoch 66/100\n",
      "29/29 - 0s - loss: 0.1890 - accuracy: 0.9046 - val_loss: 1.7559 - val_accuracy: 0.4186 - 487ms/epoch - 17ms/step\n",
      "Epoch 67/100\n",
      "29/29 - 0s - loss: 0.1866 - accuracy: 0.9123 - val_loss: 2.3021 - val_accuracy: 0.3140 - 354ms/epoch - 12ms/step\n",
      "Epoch 68/100\n",
      "29/29 - 0s - loss: 0.1948 - accuracy: 0.8935 - val_loss: 2.0666 - val_accuracy: 0.3837 - 369ms/epoch - 13ms/step\n",
      "Epoch 69/100\n",
      "29/29 - 0s - loss: 0.1815 - accuracy: 0.9079 - val_loss: 1.8964 - val_accuracy: 0.4070 - 378ms/epoch - 13ms/step\n",
      "Epoch 70/100\n",
      "29/29 - 0s - loss: 0.1842 - accuracy: 0.9023 - val_loss: 2.4153 - val_accuracy: 0.2791 - 450ms/epoch - 16ms/step\n",
      "Epoch 71/100\n",
      "29/29 - 0s - loss: 0.1793 - accuracy: 0.9068 - val_loss: 1.9178 - val_accuracy: 0.4070 - 399ms/epoch - 14ms/step\n",
      "Epoch 72/100\n",
      "29/29 - 0s - loss: 0.1816 - accuracy: 0.9145 - val_loss: 2.1198 - val_accuracy: 0.3605 - 370ms/epoch - 13ms/step\n",
      "Epoch 73/100\n",
      "29/29 - 0s - loss: 0.1790 - accuracy: 0.9201 - val_loss: 1.8230 - val_accuracy: 0.3837 - 363ms/epoch - 13ms/step\n",
      "Epoch 74/100\n",
      "29/29 - 0s - loss: 0.1719 - accuracy: 0.9234 - val_loss: 2.4759 - val_accuracy: 0.2558 - 394ms/epoch - 14ms/step\n",
      "Epoch 75/100\n",
      "29/29 - 0s - loss: 0.1667 - accuracy: 0.9046 - val_loss: 2.0311 - val_accuracy: 0.4186 - 470ms/epoch - 16ms/step\n",
      "Epoch 76/100\n",
      "29/29 - 0s - loss: 0.1676 - accuracy: 0.9112 - val_loss: 2.2824 - val_accuracy: 0.3023 - 430ms/epoch - 15ms/step\n",
      "Epoch 77/100\n",
      "29/29 - 0s - loss: 0.1699 - accuracy: 0.9112 - val_loss: 2.1172 - val_accuracy: 0.3488 - 369ms/epoch - 13ms/step\n",
      "Epoch 78/100\n",
      "29/29 - 0s - loss: 0.1724 - accuracy: 0.9012 - val_loss: 2.6353 - val_accuracy: 0.2326 - 347ms/epoch - 12ms/step\n",
      "Epoch 79/100\n",
      "29/29 - 0s - loss: 0.1784 - accuracy: 0.9156 - val_loss: 2.2543 - val_accuracy: 0.3372 - 355ms/epoch - 12ms/step\n",
      "Epoch 80/100\n",
      "29/29 - 0s - loss: 0.1619 - accuracy: 0.9068 - val_loss: 2.5234 - val_accuracy: 0.2558 - 350ms/epoch - 12ms/step\n",
      "Epoch 81/100\n",
      "29/29 - 0s - loss: 0.1575 - accuracy: 0.9023 - val_loss: 2.3793 - val_accuracy: 0.3256 - 377ms/epoch - 13ms/step\n",
      "Epoch 82/100\n",
      "29/29 - 0s - loss: 0.1561 - accuracy: 0.9023 - val_loss: 2.3045 - val_accuracy: 0.3488 - 408ms/epoch - 14ms/step\n",
      "Epoch 83/100\n",
      "29/29 - 0s - loss: 0.1570 - accuracy: 0.9134 - val_loss: 2.1795 - val_accuracy: 0.3721 - 364ms/epoch - 13ms/step\n",
      "Epoch 84/100\n",
      "29/29 - 0s - loss: 0.1615 - accuracy: 0.9001 - val_loss: 2.3410 - val_accuracy: 0.3256 - 381ms/epoch - 13ms/step\n",
      "Epoch 85/100\n",
      "29/29 - 0s - loss: 0.1619 - accuracy: 0.9134 - val_loss: 2.5195 - val_accuracy: 0.3023 - 378ms/epoch - 13ms/step\n",
      "Epoch 86/100\n",
      "29/29 - 0s - loss: 0.1557 - accuracy: 0.9201 - val_loss: 2.7033 - val_accuracy: 0.2326 - 436ms/epoch - 15ms/step\n",
      "Epoch 87/100\n",
      "29/29 - 0s - loss: 0.1586 - accuracy: 0.9034 - val_loss: 2.3685 - val_accuracy: 0.3256 - 368ms/epoch - 13ms/step\n",
      "Epoch 88/100\n",
      "29/29 - 0s - loss: 0.1544 - accuracy: 0.9079 - val_loss: 2.2544 - val_accuracy: 0.3488 - 386ms/epoch - 13ms/step\n",
      "Epoch 89/100\n",
      "29/29 - 0s - loss: 0.1596 - accuracy: 0.9134 - val_loss: 2.4061 - val_accuracy: 0.3140 - 378ms/epoch - 13ms/step\n",
      "Epoch 90/100\n",
      "29/29 - 0s - loss: 0.1550 - accuracy: 0.9112 - val_loss: 2.2433 - val_accuracy: 0.3953 - 367ms/epoch - 13ms/step\n",
      "Epoch 91/100\n",
      "29/29 - 0s - loss: 0.1548 - accuracy: 0.9190 - val_loss: 2.2197 - val_accuracy: 0.3372 - 383ms/epoch - 13ms/step\n",
      "Epoch 92/100\n",
      "29/29 - 0s - loss: 0.1898 - accuracy: 0.9101 - val_loss: 2.4300 - val_accuracy: 0.2907 - 377ms/epoch - 13ms/step\n",
      "Epoch 93/100\n",
      "29/29 - 0s - loss: 0.1542 - accuracy: 0.9079 - val_loss: 2.4044 - val_accuracy: 0.3256 - 356ms/epoch - 12ms/step\n",
      "Epoch 94/100\n",
      "29/29 - 0s - loss: 0.1493 - accuracy: 0.9134 - val_loss: 2.3820 - val_accuracy: 0.3023 - 367ms/epoch - 13ms/step\n",
      "Epoch 95/100\n",
      "29/29 - 0s - loss: 0.1523 - accuracy: 0.9079 - val_loss: 2.8939 - val_accuracy: 0.2093 - 388ms/epoch - 13ms/step\n",
      "Epoch 96/100\n",
      "29/29 - 0s - loss: 0.1505 - accuracy: 0.9156 - val_loss: 2.1408 - val_accuracy: 0.3256 - 406ms/epoch - 14ms/step\n",
      "Epoch 97/100\n",
      "29/29 - 0s - loss: 0.1530 - accuracy: 0.9201 - val_loss: 2.0137 - val_accuracy: 0.4302 - 388ms/epoch - 13ms/step\n",
      "Epoch 98/100\n",
      "29/29 - 0s - loss: 0.1696 - accuracy: 0.9190 - val_loss: 2.2085 - val_accuracy: 0.3256 - 368ms/epoch - 13ms/step\n",
      "Epoch 99/100\n",
      "29/29 - 0s - loss: 0.1476 - accuracy: 0.9112 - val_loss: 2.3258 - val_accuracy: 0.3372 - 363ms/epoch - 13ms/step\n",
      "Epoch 100/100\n",
      "29/29 - 0s - loss: 0.1438 - accuracy: 0.9179 - val_loss: 2.4222 - val_accuracy: 0.3372 - 428ms/epoch - 15ms/step\n"
     ]
    }
   ],
   "source": [
    "num_epochs = 100\n",
    "history = model.fit(training_padded, training_labels, epochs=num_epochs, validation_data=(testing_padded, testing_labels), verbose=2)"
   ]
  },
  {
   "cell_type": "code",
   "execution_count": null,
   "id": "a5e699e2",
   "metadata": {},
   "outputs": [],
   "source": []
  }
 ],
 "metadata": {
  "kernelspec": {
   "display_name": "Python 3 (ipykernel)",
   "language": "python",
   "name": "python3"
  },
  "language_info": {
   "codemirror_mode": {
    "name": "ipython",
    "version": 3
   },
   "file_extension": ".py",
   "mimetype": "text/x-python",
   "name": "python",
   "nbconvert_exporter": "python",
   "pygments_lexer": "ipython3",
   "version": "3.9.12"
  }
 },
 "nbformat": 4,
 "nbformat_minor": 5
}
